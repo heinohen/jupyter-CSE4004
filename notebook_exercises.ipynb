{
 "cells": [
  {
   "cell_type": "markdown",
   "metadata": {},
   "source": [
    "## Jupyter Notebook example\n",
    "\n",
    "Follow instructions and fill in where required. Do not modify anything else than what you are asked to."
   ]
  },
  {
   "cell_type": "markdown",
   "metadata": {},
   "source": [
    "## Table of Contents\n",
    "\n",
    "* [1. Shell commands and line magics](#shellmagic)\n",
    "* [2. Latex for formulas](#latex)\n",
    "* [3. Interactive widget](#interactive)\n",
    "* [4. Git](#git)"
   ]
  },
  {
   "cell_type": "markdown",
   "metadata": {},
   "source": [
    "### 1. Shell commands and line magics <a class=\"anchor\" id=\"shellmagic\"></a>\n",
    "\n",
    "1.1. In code cell below, run a shell command to print your working directory.\n",
    "\n",
    "1.2. Using a line magic create an alias called \"hello\" for command \"echo \"¡Hola mundo!\"\" and test it. Your answer should contain one line for creating alias and one line for using the alias."
   ]
  },
  {
   "cell_type": "code",
   "execution_count": 6,
   "metadata": {
    "tags": []
   },
   "outputs": [
    {
     "name": "stdout",
     "output_type": "stream",
     "text": [
      "/home/heinohen/repos/jupyter-CSE4004\n",
      "¡Hola mundo!\n"
     ]
    }
   ],
   "source": [
    "# Exercise 1.1. here:\n",
    "!pwd\n",
    "# Exercise 1.2. here:\n",
    "%alias hello echo \"¡Hola mundo!\"\n",
    "%hello"
   ]
  },
  {
   "cell_type": "markdown",
   "metadata": {},
   "source": [
    "### 2. Markdown text <a class=\"anchor\" id=\"latex\"></a>\n",
    "\n",
    "Different kind of text can be added into markdown cells. [Here](https://jupyter-notebook.readthedocs.io/en/stable/examples/Notebook/Working%20With%20Markdown%20Cells.html) is a good source into Markdown basics.\n",
    "\n",
    "2.1. In markdown cell below display Pythagorean theorem using LaTex syntax.\n",
    "\n",
    "2.2. Display a Python function called \"hello\" that returns \"Hallo Welt!\". Use Github flavored markdown. (You may use some other programming language here if you wish)"
   ]
  },
  {
   "cell_type": "markdown",
   "metadata": {},
   "source": [
    "2.1. here:\n",
    "$a^2 + b^2 = c^2$\n",
    "\n",
    "2.2. here:\n",
    "```python\n",
    "def hello():\n",
    "    return \"Hallo Welt!\"\n",
    "```"
   ]
  },
  {
   "cell_type": "markdown",
   "metadata": {},
   "source": [
    "### 3. Interactive widget <a class=\"anchor\" id=\"interactive\"></a>\n",
    "\n",
    "In the program below we want to investigate a set of movie reviews and see what are the most frequent words there. We are not interested in seeing punctuation marks or the clearly most common words referred as stopwords. \n",
    "\n",
    "3.1. Run the code and investigate the output. In the marked codeline there is something wrong that causes wrong output. Can you figure out what to add to display correct words?\n",
    "\n",
    "3.2. Use the @interact decorator at the end of the program to range displaying 5 to 10 most frequent words. You can see an example of the usage of the decorator [here](https://coderefinery.github.io/jupyter/examples/#widgets-for-interactive-data-fitting)"
   ]
  },
  {
   "cell_type": "code",
   "execution_count": 18,
   "metadata": {
    "tags": []
   },
   "outputs": [
    {
     "name": "stderr",
     "output_type": "stream",
     "text": [
      "[nltk_data] Downloading package movie_reviews to\n",
      "[nltk_data]     /home/heinohen/nltk_data...\n",
      "[nltk_data]   Package movie_reviews is already up-to-date!\n",
      "[nltk_data] Downloading package stopwords to\n",
      "[nltk_data]     /home/heinohen/nltk_data...\n",
      "[nltk_data]   Package stopwords is already up-to-date!\n"
     ]
    },
    {
     "data": {
      "text/plain": [
       "True"
      ]
     },
     "execution_count": 18,
     "metadata": {},
     "output_type": "execute_result"
    }
   ],
   "source": [
    "# Notice!: \n",
    "# For ModuleNotFoundError: No module named 'nltk' you need to pip install nltk to your environment\n",
    "# For ModuleNotFoundError: No module named 'ipywidgets' you need to pip install ipywidgets to your environment\n",
    "# To install nltk data sets movie_reviews and stopwords you need to install the data sets with nltk.download. \n",
    "# See examples: https://www.nltk.org/data.html\n",
    "# Do that here:\n",
    "import nltk\n",
    "nltk.download('movie_reviews')\n",
    "nltk.download('stopwords')"
   ]
  },
  {
   "cell_type": "code",
   "execution_count": 42,
   "metadata": {
    "tags": []
   },
   "outputs": [
    {
     "data": {
      "image/png": "[encoded data removed]",
      "text/plain": [
       "<Figure size 640x480 with 1 Axes>"
      ]
     },
     "metadata": {},
     "output_type": "display_data"
    },
    {
     "data": {
      "application/vnd.jupyter.widget-view+json": {
       "model_id": "6bfebf3c17cd43b0aff0d271c5521703",
       "version_major": 2,
       "version_minor": 0
      },
      "text/plain": [
       "interactive(children=(IntSlider(value=7, description='n', max=10, min=5), Output()), _dom_classes=('widget-int…"
      ]
     },
     "metadata": {},
     "output_type": "display_data"
    }
   ],
   "source": [
    "from nltk import FreqDist\n",
    "from nltk import RegexpTokenizer\n",
    "from nltk.corpus import movie_reviews\n",
    "from nltk.corpus import stopwords \n",
    "from ipywidgets import interact\n",
    "\n",
    "tokenizer = RegexpTokenizer(r\"\\w+\")\n",
    "word_tokens = tokenizer.tokenize(movie_reviews.raw())\n",
    "\n",
    "stop_words = set(stopwords.words('english'))\n",
    "\n",
    "# Exercise 3.1. below: \n",
    "filtered_words = [w for w in word_tokens if w in stop_words and len(w) > 4]\n",
    "\n",
    "fd = FreqDist(filtered_words)\n",
    "fd.plot(5)\n",
    "\n",
    "# Exercise 3.2. here:\n",
    "@interact\n",
    "def slider(n=(5,10)):\n",
    "           fd.plot(n)"
   ]
  },
  {
   "cell_type": "markdown",
   "metadata": {},
   "source": [
    "### 4. Git <a class=\"anchor\" id=\"git\"></a>\n",
    "\n",
    "Follow [these](https://coderefinery.github.io/jupyter/version-control/) instructions to save this notebook and create a repository for it. After you have done this, paste the repository url in the cell below. Please make your repository public on Github so that your reviewer is able to assess this exercise."
   ]
  },
  {
   "cell_type": "code",
   "execution_count": 9,
   "metadata": {
    "tags": []
   },
   "outputs": [],
   "source": [
    "# Paste your repository url here: \n",
    "# "
   ]
  },
  {
   "cell_type": "code",
   "execution_count": null,
   "metadata": {},
   "outputs": [],
   "source": []
  }
 ],
 "metadata": {
  "kernelspec": {
   "display_name": "Python 3 (ipykernel)",
   "language": "python",
   "name": "python3"
  },
  "language_info": {
   "codemirror_mode": {
    "name": "ipython",
    "version": 3
   },
   "file_extension": ".py",
   "mimetype": "text/x-python",
   "name": "python",
   "nbconvert_exporter": "python",
   "pygments_lexer": "ipython3",
   "version": "3.10.6"
  }
 },
 "nbformat": 4,
 "nbformat_minor": 4
}
